{
 "cells": [
  {
   "cell_type": "code",
   "execution_count": 1,
   "metadata": {},
   "outputs": [
    {
     "name": "stdout",
     "output_type": "stream",
     "text": [
      "hello ram,good morning\n"
     ]
    }
   ],
   "source": [
    "print(\"hello {name},{greeting}\".format(name=\"ram\",greeting=\"good morning\"))"
   ]
  },
  {
   "cell_type": "code",
   "execution_count": 2,
   "metadata": {},
   "outputs": [
    {
     "name": "stdout",
     "output_type": "stream",
     "text": [
      "the story of bill,fbhdsj,and hus\n"
     ]
    }
   ],
   "source": [
    "print('the story of {0},{1},and {other}'.format('bill','fbhdsj',other='hus'))"
   ]
  },
  {
   "cell_type": "code",
   "execution_count": 4,
   "metadata": {},
   "outputs": [
    {
     "name": "stdout",
     "output_type": "stream",
     "text": [
      "enter the no4\n",
      "4\n"
     ]
    }
   ],
   "source": [
    "num=input('enter the no')\n",
    "print(num)"
   ]
  },
  {
   "cell_type": "markdown",
   "metadata": {},
   "source": [
    "Bitwise operators"
   ]
  },
  {
   "cell_type": "code",
   "execution_count": null,
   "metadata": {},
   "outputs": [],
   "source": [
    "a,b=10,4  #its bitwise operation .\n",
    "print(a & b)#converts to binary and multiply so o/o is 0\n",
    "\n",
    "print (a|b)\n",
    "\n"
   ]
  },
  {
   "cell_type": "markdown",
   "metadata": {},
   "source": [
    "# #Membership Operator\n",
    "in and not in check"
   ]
  },
  {
   "cell_type": "code",
   "execution_count": null,
   "metadata": {},
   "outputs": [],
   "source": [
    "lst=[1,2,3,4]\n",
    "print(2 in lst)"
   ]
  },
  {
   "cell_type": "markdown",
   "metadata": {},
   "source": [
    "# To check given no is prime or not ."
   ]
  },
  {
   "cell_type": "code",
   "execution_count": null,
   "metadata": {},
   "outputs": [],
   "source": [
    "import math\n",
    "num=int(input(\"enter the no ::\"))\n",
    "flag=False;\n",
    "i=2;\n",
    "\n",
    "x=math.ceil(num/2)1\n",
    "\n",
    "while i<=x:\n",
    "    if x%i==0:\n",
    "        flag=True\n",
    "        print(\"{} is divisible by{}\".format(num,i))\n",
    "    i+=1;\n",
    "if flag:\n",
    "    print(\"{} is not prime\".format(num))\n",
    "else:\n",
    "    print(\"{} is a prime\".format(num))\n",
    "        \n",
    "    \n",
    "    \n",
    "    \n",
    "    "
   ]
  },
  {
   "cell_type": "code",
   "execution_count": null,
   "metadata": {},
   "outputs": [],
   "source": [
    "import math\n",
    "x=25\n",
    "x=x/2\n",
    "x=math.floor(x)\n",
    "print(x)"
   ]
  },
  {
   "cell_type": "markdown",
   "metadata": {},
   "source": [
    "# #functions  "
   ]
  },
  {
   "cell_type": "code",
   "execution_count": null,
   "metadata": {},
   "outputs": [],
   "source": [
    "def print_name(name):           \n",
    "    \"\"\"                              \n",
    "    This function prints the sum\n",
    "    \"\"\"\n",
    "    print(\"hello \"+str(name))"
   ]
  },
  {
   "cell_type": "markdown",
   "metadata": {},
   "source": [
    "these \"\"\" is called Doc string. this tells what fun does.\n",
    "It is used for good programming practice.\n",
    "\n",
    "To print doc string of any given function '.__doc__"
   ]
  },
  {
   "cell_type": "code",
   "execution_count": null,
   "metadata": {},
   "outputs": [],
   "source": [
    "print_name('ram')"
   ]
  },
  {
   "cell_type": "code",
   "execution_count": null,
   "metadata": {},
   "outputs": [],
   "source": [
    "def findHCF(a,b):\n",
    "    smaller=b if a>b else a\n",
    "    \n",
    "    hcf=1\n",
    "    \n",
    "    for i in range(1,smaller+1):             #since upto smaller doesnot prints the last number so smaller+1 is written.\n",
    "        if(a%1==0) and (b%i==0):\n",
    "            hcf=i\n",
    "        return hcf\n",
    "num1=94\n",
    "num2=68\n",
    "\n",
    "print(\"h.c.f. of {0} and {1} is:2\".format(num1,num2,findHCF(num1,num2)))\n",
    "\n"
   ]
  },
  {
   "cell_type": "markdown",
   "metadata": {},
   "source": [
    "find which is smallest. Then within range upto smallest one we have to find greatest divisible number ."
   ]
  },
  {
   "cell_type": "markdown",
   "metadata": {},
   "source": [
    "# All function \n",
    "\n",
    "return vaue of all() function\n",
    "True:if all elements in iterable are true"
   ]
  },
  {
   "cell_type": "code",
   "execution_count": null,
   "metadata": {},
   "outputs": [],
   "source": [
    "lst=[1,2,3,4,5]\n",
    "print(all(lst))     #since all are none zero in lst"
   ]
  },
  {
   "cell_type": "code",
   "execution_count": null,
   "metadata": {},
   "outputs": [],
   "source": [
    "tuple=(0,2,3,4)    #0 present in tuple\n",
    "print(all(tuple))\n",
    "lst=[2,3,4,0]\n",
    "print(all(lst))     #0 present in list\n",
    "\n",
    "l=[]\n",
    "print(all(l))       #empty list is always true\n",
    "\n",
    "l=[False,1,2]\n",
    "print(all(lst))    #Bool false present so\n",
    "\n"
   ]
  },
  {
   "cell_type": "markdown",
   "metadata": {},
   "source": [
    "# dir()\n"
   ]
  },
  {
   "cell_type": "code",
   "execution_count": null,
   "metadata": {},
   "outputs": [],
   "source": [
    "num=[1,2,3,]\n",
    "print(dir(num)) #all the attbs associated with datatypes list"
   ]
  },
  {
   "cell_type": "markdown",
   "metadata": {},
   "source": [
    "if we want index aswell as values from list enumerate function is used"
   ]
  },
  {
   "cell_type": "markdown",
   "metadata": {},
   "source": [
    "# filter"
   ]
  },
  {
   "cell_type": "markdown",
   "metadata": {},
   "source": [
    "def pos_num(num):\n",
    "    if num>0:\n",
    "        return num\n",
    "\n",
    "lst=range(-7,7)\n",
    "print(list(lst))\n",
    "positive_num=list(filter(pos_num,lst))\n",
    "\n",
    "print(positive_num)"
   ]
  },
  {
   "cell_type": "markdown",
   "metadata": {},
   "source": [
    "isinstance()"
   ]
  },
  {
   "cell_type": "code",
   "execution_count": null,
   "metadata": {},
   "outputs": [],
   "source": [
    "lst={1,2,3,4}\n",
    "print(isinstance(lst,list))"
   ]
  },
  {
   "cell_type": "markdown",
   "metadata": {},
   "source": [
    "\n",
    "# Map() \n",
    "syntax:map(function_to_apply,list_of_inputs)"
   ]
  },
  {
   "cell_type": "code",
   "execution_count": null,
   "metadata": {},
   "outputs": [],
   "source": [
    "num=[1,2,3,4,5]\n",
    "#normal method to gind 1,2,69.16,25 be\n",
    "squared=[]\n",
    "for n in num:\n",
    "    squared.append(n**2)  #appnd all the squares to squarred[] list\n",
    "print(squared)"
   ]
  },
  {
   "cell_type": "code",
   "execution_count": null,
   "metadata": {},
   "outputs": [],
   "source": [
    "num=[1,2,3,4,5]\n",
    "def powof2(n):\n",
    "    return n**2\n",
    "\n",
    "squared=list(map(powof2,num))\n",
    "print(squared)"
   ]
  },
  {
   "cell_type": "markdown",
   "metadata": {},
   "source": [
    "# reduce()\n",
    "reduce fun is for performing some computation on a list and returning results\n",
    "It applies rolling computation .eg[1,2,3,4] to multiply.1*2=2*3=6*4=...]"
   ]
  },
  {
   "cell_type": "code",
   "execution_count": null,
   "metadata": {},
   "outputs": [],
   "source": [
    "#traditional method\n",
    "\n",
    "product=1\n",
    "\n",
    "lst=[1,2,3,4]\n",
    "\n",
    "for num in lst:\n",
    "    product*=num\n",
    "print(product)"
   ]
  },
  {
   "cell_type": "code",
   "execution_count": null,
   "metadata": {},
   "outputs": [],
   "source": [
    "from functools import reduce  #in python3 its inbuild\n",
    "\n",
    "def mul(x,y):\n",
    "    return x*y;\n",
    "product=reduce(mul,lst)\n",
    "print(product)"
   ]
  },
  {
   "cell_type": "markdown",
   "metadata": {},
   "source": [
    "# Simple Calculator"
   ]
  },
  {
   "cell_type": "code",
   "execution_count": null,
   "metadata": {},
   "outputs": [],
   "source": [
    "def add(a,b):\n",
    "    return a+b\n",
    "def mul(a,b):\n",
    "    return a*b\n",
    "def sub(a,b):\n",
    "    return a-b\n",
    "def div(a,b):\n",
    "    return a/b\n",
    "\n",
    "print(\"enter the options\")\n",
    "print(\"1.addn\")\n",
    "print(\"2.subtrn\")\n",
    "print(\"3.multipln\")\n",
    "print(\"4.divn\")\n",
    "\n",
    "choice=int(input(\"enter the choice 1/2/3/4\"))\n",
    "\n",
    "num1=float(input(\"enter the 1st no\"))\n",
    "\n",
    "num2=float(input(\"enter the 2nd choice\"))\n",
    "\n",
    "\n",
    "if choice==1:\n",
    "    print(\"addn of {0} and {1} is {2}\".format(num1,num2,add(num1,num2)))\n",
    "elif choice==2:\n",
    "    print(\"subtrn of {0} and {1} is {2}\".format(num1,num2,sub(num1,num2)))\n",
    "elif choice==3:\n",
    "    print(\"multiplication of {0} and {1} is {2}\".format(num1,num2,mul(num1,num2)))\n",
    "    \n",
    "elif choice==4:\n",
    "    print(\"divn of{0} and {1} is {2}\".format(num1,num2,div(num1,num2)) )\n",
    "\n",
    "else:\n",
    "    print(\"choose within1 to 4\")\n"
   ]
  },
  {
   "cell_type": "markdown",
   "metadata": {},
   "source": [
    "# Recursion function\n",
    "\n",
    "factorial(3)=3*2*1=3*fact(2)\n",
    "so fact(n)=n*fact(n-1)"
   ]
  },
  {
   "cell_type": "code",
   "execution_count": null,
   "metadata": {},
   "outputs": [],
   "source": [
    "def factorial(num):\n",
    "    \"\"\"\n",
    "    this is recursive function to find the factorial of a give number\n",
    "    \"\"\"\n",
    "    \n",
    "    return 1 if num==1 else (num*factorial(num-1))\n",
    "\n",
    "num=5\n",
    "print(\"factorialof{0} is  {1} \".format(num,factorial(num)))\n"
   ]
  },
  {
   "cell_type": "markdown",
   "metadata": {},
   "source": [
    "# fibonacci\n",
    "fib(n)=fib(n-1)+fib(n-2) #recursion"
   ]
  },
  {
   "cell_type": "code",
   "execution_count": null,
   "metadata": {},
   "outputs": [],
   "source": [
    "x=int(input(\"enter the no t to which fibo u want\"))  #int must be define\n",
    "\n",
    "def fibonacci(num):\n",
    "    return num if num<=1 else fibonacci(num-1)+fibonacci(num-2)\n",
    "print(\"fibo seq\")\n",
    "for num in range (x):\n",
    "    print(fibonacci(num))"
   ]
  },
  {
   "cell_type": "markdown",
   "metadata": {},
   "source": [
    "# Anonymous /Lambda function\n",
    "these are fun  that are defined without name.\n",
    "normal fun are defined usind def keywords but this has\n",
    "\n",
    "syntax: lambda arguments:expression\n",
    "\n"
   ]
  },
  {
   "cell_type": "code",
   "execution_count": null,
   "metadata": {},
   "outputs": [],
   "source": [
    "#normal method\n",
    "def double(x):\n",
    "    return x*2\n",
    "print(double(5))\n",
    "\n",
    "\"\"\"\n",
    "now using lambda fu\"\"\"\n",
    "\n",
    "double=lambda x:x*2 #fun_name=lambda arg:output\n",
    "print(double(5))"
   ]
  },
  {
   "cell_type": "code",
   "execution_count": null,
   "metadata": {},
   "outputs": [],
   "source": [
    "#example with filter()\n",
    "\n",
    "lst=[1,2,3,4,5,7,90]\n",
    "even_lst=list(filter(lambda x:(x%2==0), lst))\n",
    "print(even_lst)"
   ]
  },
  {
   "cell_type": "code",
   "execution_count": null,
   "metadata": {},
   "outputs": [],
   "source": [
    "#example use with map()\n",
    "lst=[1,2,3,4,5]\n",
    "new_lst=list(map(lambda x: x**2,lst))\n",
    "print(new_lst)\n"
   ]
  },
  {
   "cell_type": "code",
   "execution_count": null,
   "metadata": {},
   "outputs": [],
   "source": [
    "#example with  reduce()\n",
    "from functools import reduce\n",
    "\n",
    "lst=[1,2,3,4,5]\n",
    "product_lst=reduce(lambda x,y:x*y,lst)\n",
    "print(product_lst)"
   ]
  },
  {
   "cell_type": "markdown",
   "metadata": {},
   "source": [
    "# Module"
   ]
  },
  {
   "cell_type": "code",
   "execution_count": null,
   "metadata": {},
   "outputs": [],
   "source": [
    "import math as m            #this import all math \n",
    "print(m.pi)"
   ]
  },
  {
   "cell_type": "code",
   "execution_count": null,
   "metadata": {},
   "outputs": [],
   "source": [
    "import datetime as dt  #datetime modeule\n",
    "dt.datetime.now()\n",
    "\n",
    "from math import *  #import all\n",
    "print(\"value od pi is\" +str(pi ))\n",
    "\n"
   ]
  },
  {
   "cell_type": "markdown",
   "metadata": {},
   "source": [
    "# File Handling"
   ]
  },
  {
   "cell_type": "code",
   "execution_count": null,
   "metadata": {},
   "outputs": [],
   "source": [
    "f=open('1.txt')  #by default no args=read mode\n",
    "f=open('1.txt','r')\n",
    "f=open('1.txt','a')  #adding new \n",
    "  #types of mode\n",
    "  #  1>text_mode       #  2>bin mode  =for storing lists,matrix,vars,in scientific computaion\n",
    "  #  + for both r/w\n",
    " \n",
    "  #in windows text mode is 'cp1252'  in linux'utf-8'"
   ]
  },
  {
   "cell_type": "markdown",
   "metadata": {},
   "source": [
    "\n",
    "f.close \n",
    "\n",
    "#this closing of file is necessary after opening because this file first loads to the ram in python then goes to hard drive . If we don't close then the file may not be saved.\n",
    "\n",
    "\n",
    "\n",
    "Exception handline is used foe opening and closing th e file in safe way.\n"
   ]
  },
  {
   "cell_type": "code",
   "execution_count": null,
   "metadata": {},
   "outputs": [],
   "source": [
    "f=open(\"test.txt\",\"w\")\n",
    "f.write(\"this ewill gets written in the file.if file isthere prev then new one is created by creating new one\\n\")\n",
    "f.write(\"this is 2nd line of text\")\n",
    "f.close()"
   ]
  },
  {
   "cell_type": "code",
   "execution_count": null,
   "metadata": {},
   "outputs": [],
   "source": [
    "f=open(\"test.txt\",\"r\")\n",
    "f.read()     #will print all content of file\n",
    "\n"
   ]
  },
  {
   "cell_type": "code",
   "execution_count": null,
   "metadata": {},
   "outputs": [],
   "source": [
    "f=open(\"test.txt\",'r')\n",
    "f.read(4)  #read 4th character"
   ]
  },
  {
   "cell_type": "markdown",
   "metadata": {},
   "source": [
    "now after reading 4th character the pointer points to the 4th postion then"
   ]
  },
  {
   "cell_type": "code",
   "execution_count": null,
   "metadata": {},
   "outputs": [],
   "source": [
    "f.read(4)  #this has read 4 next character from prev location . "
   ]
  },
  {
   "cell_type": "code",
   "execution_count": null,
   "metadata": {},
   "outputs": [],
   "source": [
    "f.tell()  #tells current cursor location"
   ]
  },
  {
   "cell_type": "code",
   "execution_count": null,
   "metadata": {},
   "outputs": [],
   "source": [
    "f.seek(0)  #reset pointer to initial postion"
   ]
  },
  {
   "cell_type": "code",
   "execution_count": null,
   "metadata": {},
   "outputs": [],
   "source": [
    "f=open(\"test.txt\",\"r\")\n",
    "f.read()     \n",
    "f.seek(0)            #reads line by line\n",
    "for line in f:\n",
    "    print(line)"
   ]
  },
  {
   "cell_type": "code",
   "execution_count": null,
   "metadata": {},
   "outputs": [],
   "source": [
    "f=open(\"test.txt\",\"r\")  #reads 1st line"
   ]
  },
  {
   "cell_type": "code",
   "execution_count": null,
   "metadata": {},
   "outputs": [],
   "source": [
    "f=open(\"test.txt\",\"r\")   #reads 2nd line"
   ]
  },
  {
   "cell_type": "markdown",
   "metadata": {},
   "source": [
    "Renaming and deleting the fils"
   ]
  },
  {
   "cell_type": "code",
   "execution_count": null,
   "metadata": {},
   "outputs": [],
   "source": [
    "import os   #module contains osrelated functions  such  as rename delete ect\n",
    "\n",
    "os.rename(\"test.txt\",\"sample.txt\")"
   ]
  },
  {
   "cell_type": "code",
   "execution_count": null,
   "metadata": {},
   "outputs": [],
   "source": [
    "f=open(\"sample.txt\", \"r\")\n",
    "f.readline()"
   ]
  },
  {
   "cell_type": "code",
   "execution_count": null,
   "metadata": {},
   "outputs": [],
   "source": [
    "os.remove('sample.txt')  #deletes thee file"
   ]
  },
  {
   "cell_type": "markdown",
   "metadata": {},
   "source": [
    "FOlder handling"
   ]
  },
  {
   "cell_type": "code",
   "execution_count": null,
   "metadata": {},
   "outputs": [],
   "source": [
    "import os\n",
    "os.getcwd()"
   ]
  },
  {
   "cell_type": "code",
   "execution_count": null,
   "metadata": {},
   "outputs": [],
   "source": [
    "os.listdir(os.getcwd())    #all files in current dir"
   ]
  },
  {
   "cell_type": "code",
   "execution_count": null,
   "metadata": {},
   "outputs": [],
   "source": [
    "os.mkdir(\"new\")\n",
    "os.rmdir('new') #removes emplty dir only\n"
   ]
  },
  {
   "cell_type": "code",
   "execution_count": null,
   "metadata": {},
   "outputs": [],
   "source": [
    "dir(__builtins__)   #All exceptions on python\n"
   ]
  },
  {
   "cell_type": "code",
   "execution_count": null,
   "metadata": {},
   "outputs": [],
   "source": [
    "import sys  #sys is module which provide try catch etc\n",
    "\n",
    "lst=['b',0,2]\n",
    "\n",
    "for entry in lst:\n",
    "    try:\n",
    "        print(\"the entry is\",entry)  #1st it prints\n",
    "        r=1/int(entry)              #this raises an error then ASAP it goes to except block\n",
    "        \n",
    "    except:\n",
    "        print(\"oops!\",sys.exc_info()[0],\"occured.\")\n",
    "        print(\"next entry.\")\n",
    "        print(\"*********\")\n",
    "print(\"the reciprocal of\",entry,\"is\",r)"
   ]
  },
  {
   "cell_type": "markdown",
   "metadata": {},
   "source": [
    "# Raising  Exception"
   ]
  },
  {
   "cell_type": "code",
   "execution_count": null,
   "metadata": {},
   "outputs": [],
   "source": [
    "raise MemoryError(\"this is memo error\")"
   ]
  },
  {
   "cell_type": "markdown",
   "metadata": {},
   "source": [
    "# NumPY"
   ]
  },
  {
   "cell_type": "markdown",
   "metadata": {},
   "source": [
    "-provids:\n",
    "        1>extension packag to python for multi-D arrays\n",
    "        2>closer to hardware (efficiency)\n",
    "        3>designed for scientific computation(convenience)\n",
    "        4>also known as array oriented computing\n",
    "        "
   ]
  },
  {
   "cell_type": "code",
   "execution_count": null,
   "metadata": {},
   "outputs": [],
   "source": [
    "import numpy as np\n",
    "a=np.array([0,1,2,3])\n",
    "print(a)\n",
    "\n",
    "print(np.arange(10))"
   ]
  },
  {
   "cell_type": "code",
   "execution_count": null,
   "metadata": {},
   "outputs": [],
   "source": [
    "l=range(1000)                #without using numpy\n",
    "%timeit [i**2 for i in l]   #%masures avg time per iteration"
   ]
  },
  {
   "cell_type": "code",
   "execution_count": null,
   "metadata": {},
   "outputs": [],
   "source": [
    "a=np.arange(1000)\n",
    "%timeit a**2"
   ]
  },
  {
   "cell_type": "code",
   "execution_count": null,
   "metadata": {},
   "outputs": [],
   "source": [
    "a=np.array([0,1,2,3,4])\n",
    "a"
   ]
  },
  {
   "cell_type": "code",
   "execution_count": null,
   "metadata": {},
   "outputs": [],
   "source": [
    "a.ndim"
   ]
  },
  {
   "cell_type": "code",
   "execution_count": null,
   "metadata": {},
   "outputs": [],
   "source": [
    "len(a)"
   ]
  },
  {
   "cell_type": "code",
   "execution_count": null,
   "metadata": {},
   "outputs": [],
   "source": [
    "a.shape"
   ]
  },
  {
   "cell_type": "markdown",
   "metadata": {},
   "source": [
    "Creating Numpy arrayy\n"
   ]
  },
  {
   "cell_type": "code",
   "execution_count": null,
   "metadata": {},
   "outputs": [],
   "source": [
    "b=np.arange(1,15,3)  #start =1, upto= 15, stepsize =3\n",
    "b"
   ]
  },
  {
   "cell_type": "code",
   "execution_count": null,
   "metadata": {},
   "outputs": [],
   "source": [
    "a=np.linspace(0,1,6)#start end no of points(not step size)  #linear  space  #divide 0-1 into 6 equal parts\n",
    "a"
   ]
  },
  {
   "cell_type": "code",
   "execution_count": null,
   "metadata": {},
   "outputs": [],
   "source": [
    "np.eye(4)  #creates identity matrix"
   ]
  },
  {
   "cell_type": "code",
   "execution_count": null,
   "metadata": {},
   "outputs": [],
   "source": [
    "np.diag([1,2,4,6])"
   ]
  },
  {
   "cell_type": "code",
   "execution_count": null,
   "metadata": {},
   "outputs": [],
   "source": [
    "a=np.random.rand(4)\n",
    "a"
   ]
  },
  {
   "cell_type": "code",
   "execution_count": null,
   "metadata": {},
   "outputs": [],
   "source": [
    "a[1:8:2]"
   ]
  },
  {
   "cell_type": "code",
   "execution_count": null,
   "metadata": {},
   "outputs": [],
   "source": [
    "a=np.arange(10)\n",
    "a[5:]=10\n",
    "a      #fifth to last chang all to 10\n"
   ]
  },
  {
   "cell_type": "code",
   "execution_count": null,
   "metadata": {},
   "outputs": [],
   "source": [
    "b[::-1]"
   ]
  },
  {
   "cell_type": "code",
   "execution_count": null,
   "metadata": {},
   "outputs": [],
   "source": [
    "a=np.random.randint(0,20,15)\n",
    "a"
   ]
  },
  {
   "cell_type": "code",
   "execution_count": null,
   "metadata": {},
   "outputs": [],
   "source": [
    "mask=(a%2==0)"
   ]
  },
  {
   "cell_type": "code",
   "execution_count": null,
   "metadata": {},
   "outputs": [],
   "source": [
    "extract_from_a=a[mask]\n",
    "extract_from_a  #prints only the the divisible value which gives modulo 0"
   ]
  },
  {
   "cell_type": "code",
   "execution_count": null,
   "metadata": {},
   "outputs": [],
   "source": [
    "a[mask]=-1   #all even no will become -1\n",
    "a"
   ]
  },
  {
   "cell_type": "markdown",
   "metadata": {},
   "source": [
    "# Operations on NUMPY"
   ]
  },
  {
   "cell_type": "code",
   "execution_count": null,
   "metadata": {},
   "outputs": [],
   "source": [
    "a=np.array([1,2,3,4])\n",
    "a+1           #will add 1 to all element\n",
    "\n",
    "#calld scalar addition"
   ]
  },
  {
   "cell_type": "code",
   "execution_count": null,
   "metadata": {},
   "outputs": [],
   "source": [
    "a**2   #prints square"
   ]
  },
  {
   "cell_type": "code",
   "execution_count": null,
   "metadata": {},
   "outputs": [],
   "source": [
    "b=np.ones(4)+1  #2222\n",
    "a-b"
   ]
  },
  {
   "cell_type": "code",
   "execution_count": null,
   "metadata": {},
   "outputs": [],
   "source": [
    "a*b    #performs element wise multiplication"
   ]
  },
  {
   "cell_type": "code",
   "execution_count": null,
   "metadata": {},
   "outputs": [],
   "source": [
    "x=np.arange(6)\n",
    "np.sin(x)"
   ]
  },
  {
   "cell_type": "code",
   "execution_count": null,
   "metadata": {},
   "outputs": [],
   "source": []
  }
 ],
 "metadata": {
  "kernelspec": {
   "display_name": "Python 3",
   "language": "python",
   "name": "python3"
  },
  "language_info": {
   "codemirror_mode": {
    "name": "ipython",
    "version": 3
   },
   "file_extension": ".py",
   "mimetype": "text/x-python",
   "name": "python",
   "nbconvert_exporter": "python",
   "pygments_lexer": "ipython3",
   "version": "3.8.3"
  }
 },
 "nbformat": 4,
 "nbformat_minor": 2
}
